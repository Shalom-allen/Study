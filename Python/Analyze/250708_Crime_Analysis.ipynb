{
 "cells": [
  {
   "cell_type": "markdown",
   "id": "7b36ec66-4a54-48c1-883b-fa0785d5bd7c",
   "metadata": {},
   "source": [
    "이 데이터는 수시로 일회성으로 제공하는 데이터로 2023년 기준 경찰청에서 집계한 범죄 발생 지역별 통계를 제공하는 공공데이터입니다. 강력범죄, 지능범죄, 절도, 폭력 등 다양한 범죄 유형이 시군구 단위로 세분화되어 있으며, 외국인 범죄자에 대해서는 국적별(중국, 베트남, 러시아 등) 범죄 발생 수치도 포함됩니다. 이 데이터를 통해 지역 간 범죄 집중도, 외국인 관련 범죄 양상, 범죄 유형별 공간 분포 등을 분석할 수 있습니다. 이 데이터는 경찰의 지역 치안 전략 수립, 외국인 밀집지역 범죄 예방 계획, 연구기관의 공간 기반 범죄 연구, 공공기관의 지역별 예방 대책 수립 등에 활용됩니다."
   ]
  },
  {
   "cell_type": "code",
   "execution_count": 1,
   "id": "4140d66c-411c-4908-9da0-306bdc425bdf",
   "metadata": {},
   "outputs": [],
   "source": [
    "import pandas as pd"
   ]
  },
  {
   "cell_type": "code",
   "execution_count": 9,
   "id": "4a8441be-c795-4fbb-a6a2-f65fc46e338c",
   "metadata": {},
   "outputs": [],
   "source": [
    "file_path = '/Users/yoominsang/study/Download/Data/crime_20231231.csv'"
   ]
  },
  {
   "cell_type": "code",
   "execution_count": 11,
   "id": "0fbbc342-df3e-41ee-ac77-b586ecf875e9",
   "metadata": {},
   "outputs": [],
   "source": [
    "df = pd.read_csv(file_path, encoding='euc-kr')"
   ]
  },
  {
   "cell_type": "code",
   "execution_count": 17,
   "id": "f72131ff-0f47-4d6c-91b9-7d741416b45a",
   "metadata": {},
   "outputs": [],
   "source": [
    "pd.reset_option('display.max_rows', 20)\n",
    "pd.reset_option('display.max_columns', 30)\n",
    "pd.reset_option('display.max_colwidth', 20)"
   ]
  },
  {
   "cell_type": "code",
   "execution_count": 18,
   "id": "0f883d4d-2a14-4015-b8f2-2c7e2deb0419",
   "metadata": {},
   "outputs": [
    {
     "name": "stdout",
     "output_type": "stream",
     "text": [
      "   범죄대분류        범죄중분류  서울종로구  서울중구  서울용산구  서울성동구  서울광진구  서울동대문구  서울중랑구  서울성북구  \\\n",
      "0   강력범죄         살인기수      2     0      1      1      0       2      4      1   \n",
      "1   강력범죄        살인미수등      1     3      2      1      2       3      2      0   \n",
      "2   강력범죄           강도      5     6      3      2      5       4      2      1   \n",
      "3   강력범죄           강간     25    30     45     22     42      36     40     25   \n",
      "4   강력범죄         유사강간     10     4      4      6      9       5      9      7   \n",
      "5   강력범죄         강제추행    204   182    195     92    188     107    118    105   \n",
      "6   강력범죄  기타 강간 강제추행등      0     0      0      0      0       1      0      2   \n",
      "7   강력범죄           방화      4    13     16      4      5      11      4      7   \n",
      "8   절도범죄         절도범죄   1173  1523    971    891   1619    1278   1400    982   \n",
      "9   폭력범죄           상해    127   127    107     79    111     101    121     74   \n",
      "10  폭력범죄           폭행    905  1001   1018    548    842     839    913    731   \n",
      "11  폭력범죄         체포감금      6     8      7      4      4      11      5      5   \n",
      "12  폭력범죄           협박    116   131    140    114    137     170    200    131   \n",
      "13  폭력범죄        약취 유인      2     4      0      3      1       4      4      0   \n",
      "14  폭력범죄        폭력행위등     32    40     35     12     44      29     36     30   \n",
      "15  폭력범죄           공갈     37    24     50     34     45      53     39     43   \n",
      "16  폭력범죄           손괴    332   286    415    211    375     317    428    268   \n",
      "17  지능범죄         직무유기     28    18      7      5     14      13      4      2   \n",
      "18  지능범죄         직권남용     27    22     13     17     24      13      6      0   \n",
      "19  지능범죄          증수뢰      6     0      2      3      2       3      1      0   \n",
      "\n",
      "    ...  외국러시아  외국튀르키예  외국중국  외국일본  외국필리핀  외국베트남  외국태국  외국말레이시아  외국인도네시아  \\\n",
      "0   ...      0       0     0     0      1      0     0        0        0   \n",
      "1   ...      1       0     1     0      0      0     0        0        0   \n",
      "2   ...      0       0     0     0      3      0     0        0        0   \n",
      "3   ...      0       0     3     1      3      1     1        1        0   \n",
      "4   ...      0       0     0     0      1      0     0        1        0   \n",
      "5   ...      1       0     2     4      4      3     4        1        0   \n",
      "6   ...      0       0     0     0      0      0     0        0        0   \n",
      "7   ...      0       0     0     0      0      0     0        0        0   \n",
      "8   ...      0       0     0     1      4      2     1        0        1   \n",
      "9   ...      0       0     1     2      3      3     2        2        1   \n",
      "10  ...      0       0     3     2      2      3     0        0        1   \n",
      "11  ...      0       0     0     0      0      0     0        1        0   \n",
      "12  ...      0       0     1     0      3      3     0        1        0   \n",
      "13  ...      0       0     1     1      0      0     0        0        0   \n",
      "14  ...      0       0     0     1      1      0     0        0        0   \n",
      "15  ...      0       0     6     0      7      1     0        1        0   \n",
      "16  ...      0       0     0     0      0      1     0        0        0   \n",
      "17  ...      0       0     0     0      0      0     0        0        0   \n",
      "18  ...      0       0     0     0      0      0     0        0        0   \n",
      "19  ...      0       0     0     0      0      0     0        0        0   \n",
      "\n",
      "    외국기타국가  \n",
      "0        0  \n",
      "1        1  \n",
      "2        0  \n",
      "3        3  \n",
      "4        1  \n",
      "5       10  \n",
      "6        0  \n",
      "7        0  \n",
      "8        3  \n",
      "9        5  \n",
      "10       9  \n",
      "11       1  \n",
      "12       5  \n",
      "13       0  \n",
      "14       1  \n",
      "15       5  \n",
      "16       2  \n",
      "17       0  \n",
      "18       0  \n",
      "19       1  \n",
      "\n",
      "[20 rows x 249 columns]\n"
     ]
    }
   ],
   "source": [
    "print(df.head(20))"
   ]
  },
  {
   "cell_type": "code",
   "execution_count": null,
   "id": "fb31090a-845a-4d17-bbc1-858407aa3910",
   "metadata": {},
   "outputs": [],
   "source": []
  }
 ],
 "metadata": {
  "kernelspec": {
   "display_name": "Python 3 (ipykernel)",
   "language": "python",
   "name": "python3"
  },
  "language_info": {
   "codemirror_mode": {
    "name": "ipython",
    "version": 3
   },
   "file_extension": ".py",
   "mimetype": "text/x-python",
   "name": "python",
   "nbconvert_exporter": "python",
   "pygments_lexer": "ipython3",
   "version": "3.9.15"
  }
 },
 "nbformat": 4,
 "nbformat_minor": 5
}
