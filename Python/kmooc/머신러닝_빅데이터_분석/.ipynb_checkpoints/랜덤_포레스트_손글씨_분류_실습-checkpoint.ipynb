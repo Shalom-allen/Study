{
 "cells": [
  {
   "cell_type": "code",
   "execution_count": 16,
   "id": "baedbe20-5786-434e-8cae-9c6a939acf05",
   "metadata": {},
   "outputs": [],
   "source": [
    "# 사용 라이브러리 로드\n",
    "from sklearn.datasets import fetch_openml\n",
    "from sklearn.model_selection import train_test_split\n",
    "from sklearn import tree\n",
    "from sklearn.ensemble import RandomForestClassifier\n",
    "from sklearn.metrics import accuracy_score\n",
    "from sklearn.model_selection import GridSearchCV\n",
    "import matplotlib.pyplot as plt\n",
    "import numpy as np\n",
    "import pandas as pd\n",
    "import seaborn as sns"
   ]
  },
  {
   "cell_type": "code",
   "execution_count": 4,
   "id": "28827905-0b8d-444b-9a9e-44756e950369",
   "metadata": {},
   "outputs": [
    {
     "name": "stdout",
     "output_type": "stream",
     "text": [
      "(10000, 784)\n",
      "(10000,)\n"
     ]
    }
   ],
   "source": [
    "# 데이터로드 \n",
    "mnist = fetch_openml('mnist_784')\n",
    "\n",
    "mnist_data = mnist.data[:10000]\n",
    "mnist_target = mnist.target[:10000]\n",
    "\n",
    "# 데이터 구성 확인\n",
    "print(mnist_data.shape)\n",
    "print(mnist_target.shape)"
   ]
  },
  {
   "cell_type": "code",
   "execution_count": 8,
   "id": "a4d1f490-ec97-4832-b12c-d44260f596b7",
   "metadata": {},
   "outputs": [],
   "source": [
    "# 데이터 분리\n",
    "X_train, X_test, y_train, y_test=train_test_split(mnist_data, mnist_target, test_size=0.2)"
   ]
  },
  {
   "cell_type": "code",
   "execution_count": 9,
   "id": "65424502-0608-4481-b190-b46cf4ec0e5c",
   "metadata": {},
   "outputs": [],
   "source": [
    "# Decision Tree와 RandomForest 결과 비교(파라미터 기본값)\n",
    "dt_clf = tree.DecisionTreeClassifier()\n",
    "rf_clf = RandomForestClassifier()\n",
    "\n",
    "dt_clf.fit(X_train, y_train)\n",
    "rf_clf.fit(X_train, y_train)\n",
    "\n",
    "dt_pred = dt_clf.predict(X_test)\n",
    "rf_pred = rf_clf.predict(X_test)\n",
    "\n",
    "accuracy_dt = accuracy_score(y_test, dt_pred)\n",
    "accuracy_rf = accuracy_score(y_test, rf_pred)"
   ]
  },
  {
   "cell_type": "code",
   "execution_count": 10,
   "id": "5d8d3259-f403-4e71-96f6-855f03a5dc0a",
   "metadata": {},
   "outputs": [
    {
     "name": "stdout",
     "output_type": "stream",
     "text": [
      "의사결정 트리 예측 정확도: 0.8045\n",
      "랜덤 포레스트 예측 정확도: 0.9515\n"
     ]
    }
   ],
   "source": [
    "print('의사결정 트리 예측 정확도: {0:.4f}'.format(accuracy_dt))\n",
    "print('랜덤 포레스트 예측 정확도: {0:.4f}'.format(accuracy_rf))"
   ]
  },
  {
   "cell_type": "code",
   "execution_count": 12,
   "id": "194ff003-fc7e-43b7-b54e-ff5cdb3a9caf",
   "metadata": {},
   "outputs": [
    {
     "name": "stdout",
     "output_type": "stream",
     "text": [
      "{'bootstrap': True,\n",
      " 'ccp_alpha': 0.0,\n",
      " 'class_weight': None,\n",
      " 'criterion': 'gini',\n",
      " 'max_depth': None,\n",
      " 'max_features': 'sqrt',\n",
      " 'max_leaf_nodes': None,\n",
      " 'max_samples': None,\n",
      " 'min_impurity_decrease': 0.0,\n",
      " 'min_samples_leaf': 1,\n",
      " 'min_samples_split': 2,\n",
      " 'min_weight_fraction_leaf': 0.0,\n",
      " 'monotonic_cst': None,\n",
      " 'n_estimators': 100,\n",
      " 'n_jobs': None,\n",
      " 'oob_score': False,\n",
      " 'random_state': None,\n",
      " 'verbose': 0,\n",
      " 'warm_start': False}\n"
     ]
    }
   ],
   "source": [
    "from pprint import pprint\n",
    "\n",
    "# RandomForest 모델 기본 파라미터 값 확인\n",
    "pprint(rf_clf.get_params())"
   ]
  },
  {
   "cell_type": "markdown",
   "id": "a1ee21e0-9826-4f41-8cb2-4a1df6471308",
   "metadata": {},
   "source": [
    "# 파라미터 설명\n",
    "n_estimators : 트리개수(기본값100)\n",
    "criterion 분할 기준 : 'gini' 또는 'entropy'\n",
    "max_depth 트리의 최대 깊이(None은 무제한)\n",
    "min_samples_split 노드를 분할하기 위한 최소 샘플 수\n",
    "min_samples_leaf 리프노드에 필요한 최소 샘플 수 \n",
    "max_features 각 노드에서 고려할 최대 특성 수 ('sqrt', 'log2', 등)\n",
    "bootstrap 배깅(Bagging) 시 샘플 복원 추출 여부\n",
    "random_state 난수 시드(결과 재현용)\n",
    "n_jobs 병렬 처리에 사용할 CPU 코어 수 (None이면 1개, -1이면 모두 사용)\n",
    "oob_score OOB(out-of-bag) 샘플로 검증여부"
   ]
  },
  {
   "cell_type": "code",
   "execution_count": 13,
   "id": "c5d837b9-fdd2-4809-9cd0-181d1c5c6a52",
   "metadata": {},
   "outputs": [
    {
     "data": {
      "text/plain": [
       "(8000, 784)"
      ]
     },
     "execution_count": 13,
     "metadata": {},
     "output_type": "execute_result"
    }
   ],
   "source": [
    "X_train.shape"
   ]
  },
  {
   "cell_type": "code",
   "execution_count": 19,
   "id": "72879c91-e1fa-4534-935c-9c5bab403952",
   "metadata": {},
   "outputs": [
    {
     "data": {
      "image/png": "[encoded data removed]",
      "text/plain": [
       "<Figure size 800x600 with 1 Axes>"
      ]
     },
     "metadata": {},
     "output_type": "display_data"
    }
   ],
   "source": [
    "# 중요하게 활용된 변수 확인(상위 10개)\n",
    "ft_importances_values = rf_clf.feature_importances_\n",
    "ft_importances = pd.Series(ft_importances_values)\n",
    "\n",
    "top10 = ft_importances.sort_values(ascending=False)[:10]\n",
    "plt.figure(figsize=(8,6))\n",
    "plt.title('Feature Importances')\n",
    "sns.barplot(x=top10.index, y=top10)\n",
    "plt.show()"
   ]
  },
  {
   "cell_type": "markdown",
   "id": "f58539de-7b44-4af4-b5eb-aef069348a67",
   "metadata": {},
   "source": [
    "# Random Forest 파라미터 튜닝"
   ]
  },
  {
   "cell_type": "code",
   "execution_count": null,
   "id": "6e583e5f-f974-4a3b-925d-8660c9b1737b",
   "metadata": {},
   "outputs": [],
   "source": [
    "# Grid Search를 통한 최적의 파라미터 값 도출\n",
    "rf_param_grid = {\n",
    "    'n_estimators' : [100, 110, 120],\n",
    "    'min_samples_leaf' : [1,2,3],\n",
    "    'min_samples_split' : [2,3,4]\n",
    "}\n",
    "\n",
    "rf_clf = RandomForestClassifier(random_state = 0)\n",
    "grid = GridSearchCV(rf_clf, param_grid = rf_param_grid, scoring='accuracy')\n",
    "\n",
    "# 테스트 시간을 고려하여 1000건만 사용\n",
    "X_train_g = X_train[:10000]\n",
    "y_train_g = y_train[:10000]\n",
    "\n",
    "grid.fit(X_train_g, y_train_g)"
   ]
  },
  {
   "cell_type": "code",
   "execution_count": null,
   "id": "51e5500c-df94-4a8e-8323-3ab9c06668be",
   "metadata": {},
   "outputs": [],
   "source": [
    "print('최고  평균 정확도 : {0:.4f}'.format(grid.best_score_))\n",
    "print(grid.best_params_)"
   ]
  }
 ],
 "metadata": {
  "kernelspec": {
   "display_name": "Python 3 (ipykernel)",
   "language": "python",
   "name": "python3"
  },
  "language_info": {
   "codemirror_mode": {
    "name": "ipython",
    "version": 3
   },
   "file_extension": ".py",
   "mimetype": "text/x-python",
   "name": "python",
   "nbconvert_exporter": "python",
   "pygments_lexer": "ipython3",
   "version": "3.13.5"
  }
 },
 "nbformat": 4,
 "nbformat_minor": 5
}
