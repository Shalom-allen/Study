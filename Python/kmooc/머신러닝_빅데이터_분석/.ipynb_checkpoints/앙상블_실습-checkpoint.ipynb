{
 "cells": [
  {
   "cell_type": "markdown",
   "id": "e8a94bf7-97d3-4353-8166-270d764cb4a6",
   "metadata": {},
   "source": [
    "Decision Tree, KNN, SVM"
   ]
  },
  {
   "cell_type": "code",
   "execution_count": 1,
   "id": "273844ac-f2ba-40a1-8c3b-15c5f1035b4b",
   "metadata": {},
   "outputs": [],
   "source": [
    "# 사용 라이브러리 로드\n",
    "from sklearn import datasets\n",
    "from sklearn import tree\n",
    "from sklearn.neighbors import KNeighborsClassifier\n",
    "from sklearn.svm import SVC\n",
    "from sklearn.ensemble import VotingClassifier\n",
    "from sklearn.model_selection import train_test_split\n",
    "from sklearn.metrics import accuracy_score\n",
    "import numpy as np\n",
    "import matplotlib.pyplot as plt"
   ]
  },
  {
   "cell_type": "code",
   "execution_count": 5,
   "id": "2f0738c9-0ad3-4fa9-ab7e-028dd56def7c",
   "metadata": {},
   "outputs": [],
   "source": [
    "# 데이터 로드 \n",
    "np.random.seed(5)\n",
    "mnist = datasets.load_digits()\n",
    "features, labels = mnist.data, mnist.target"
   ]
  },
  {
   "cell_type": "code",
   "execution_count": 6,
   "id": "173b0e87-d96f-4b7f-b884-51ae0e007ea0",
   "metadata": {},
   "outputs": [
    {
     "name": "stdout",
     "output_type": "stream",
     "text": [
      "[[ 0.  0.  5. 13.  9.  1.  0.  0.  0.  0. 13. 15. 10. 15.  5.  0.  0.  3.\n",
      "  15.  2.  0. 11.  8.  0.  0.  4. 12.  0.  0.  8.  8.  0.  0.  5.  8.  0.\n",
      "   0.  9.  8.  0.  0.  4. 11.  0.  1. 12.  7.  0.  0.  2. 14.  5. 10. 12.\n",
      "   0.  0.  0.  0.  6. 13. 10.  0.  0.  0.]\n",
      " [ 0.  0.  0. 12. 13.  5.  0.  0.  0.  0.  0. 11. 16.  9.  0.  0.  0.  0.\n",
      "   3. 15. 16.  6.  0.  0.  0.  7. 15. 16. 16.  2.  0.  0.  0.  0.  1. 16.\n",
      "  16.  3.  0.  0.  0.  0.  1. 16. 16.  6.  0.  0.  0.  0.  1. 16. 16.  6.\n",
      "   0.  0.  0.  0.  0. 11. 16. 10.  0.  0.]\n",
      " [ 0.  0.  0.  4. 15. 12.  0.  0.  0.  0.  3. 16. 15. 14.  0.  0.  0.  0.\n",
      "   8. 13.  8. 16.  0.  0.  0.  0.  1.  6. 15. 11.  0.  0.  0.  1.  8. 13.\n",
      "  15.  1.  0.  0.  0.  9. 16. 16.  5.  0.  0.  0.  0.  3. 13. 16. 16. 11.\n",
      "   5.  0.  0.  0.  0.  3. 11. 16.  9.  0.]\n",
      " [ 0.  0.  7. 15. 13.  1.  0.  0.  0.  8. 13.  6. 15.  4.  0.  0.  0.  2.\n",
      "   1. 13. 13.  0.  0.  0.  0.  0.  2. 15. 11.  1.  0.  0.  0.  0.  0.  1.\n",
      "  12. 12.  1.  0.  0.  0.  0.  0.  1. 10.  8.  0.  0.  0.  8.  4.  5. 14.\n",
      "   9.  0.  0.  0.  7. 13. 13.  9.  0.  0.]]\n",
      "[0 1 2 3]\n",
      "--------------------\n",
      "(1797, 64)\n",
      "(1797,)\n"
     ]
    }
   ],
   "source": [
    "# 샘플 데이터 및 구조 확인\n",
    "print(features[:4])\n",
    "print(labels[:4])\n",
    "print('-'*20)\n",
    "print(features.shape)\n",
    "print(labels.shape)"
   ]
  },
  {
   "cell_type": "code",
   "execution_count": 7,
   "id": "c5a5667d-5005-4e51-8e85-67449250df3a",
   "metadata": {},
   "outputs": [],
   "source": [
    "# 데이터 분리\n",
    "X_train, X_test, y_train, y_test= train_test_split(features, labels, test_size=0.2)"
   ]
  },
  {
   "cell_type": "code",
   "execution_count": 10,
   "id": "78722062-949d-42e1-bf92-b22c5c1d8cd4",
   "metadata": {},
   "outputs": [],
   "source": [
    "# Decision Tree 모델\n",
    "dtree = tree.DecisionTreeClassifier(\n",
    "    criterion=\"gini\", max_depth=8, max_features=32)\n",
    "\n",
    "dtree = dtree.fit(X_train, y_train)\n",
    "dtree_predicted = dtree.predict(X_test)\n",
    "\n",
    "# KNN 모델\n",
    "knn = KNeighborsClassifier(n_neighbors=299).fit(X_train, y_train)\n",
    "knn_predicted = knn.predict(X_test)\n",
    "\n",
    "# SVM 모델\n",
    "svm = SVC(C=0.1, gamma=0.003,\n",
    "          probability=True).fit(X_train, y_train) # probability=False 가 기본값\n",
    "svm_predicted = svm.predict(X_test)"
   ]
  },
  {
   "cell_type": "code",
   "execution_count": 12,
   "id": "c00faab4-ad04-4824-b51b-450e8b95b7b2",
   "metadata": {},
   "outputs": [
    {
     "name": "stdout",
     "output_type": "stream",
     "text": [
      "[accuarcy]\n",
      "d-tree:  0.8416666666666667\n",
      "knn :  0.8944444444444445\n",
      "svm :  0.8916666666666667\n"
     ]
    }
   ],
   "source": [
    "# 각 모델 별 정확도 확인\n",
    "print(\"[accuarcy]\")\n",
    "print(\"d-tree: \", accuracy_score(y_test, dtree_predicted))\n",
    "print(\"knn : \", accuracy_score(y_test, knn_predicted))\n",
    "print(\"svm : \", accuracy_score(y_test, svm_predicted))"
   ]
  },
  {
   "cell_type": "code",
   "execution_count": 14,
   "id": "44f86466-13c8-465d-a1bb-7ac6ae863ddc",
   "metadata": {},
   "outputs": [
    {
     "name": "stdout",
     "output_type": "stream",
     "text": [
      "[[6.28457833e-04 1.84950449e-04 1.77092050e-04 1.97229242e-04\n",
      "  6.05394986e-04 9.86636615e-01 2.87561105e-04 8.02382900e-04\n",
      "  9.87315274e-03 6.07163784e-04]\n",
      " [8.88535945e-04 5.99794732e-04 9.94856894e-01 2.29904334e-04\n",
      "  2.49366864e-04 5.68745707e-04 5.73744953e-04 4.96710621e-04\n",
      "  1.25103329e-03 2.85269955e-04]]\n"
     ]
    }
   ],
   "source": [
    "# SVM 모델의 확률값 확인\n",
    "svm_proba = svm.predict_proba(X_test)\n",
    "print(svm_proba[0:2])"
   ]
  },
  {
   "cell_type": "code",
   "execution_count": 16,
   "id": "17f76d9e-a399-4cc6-9e2e-d9946ca10bc6",
   "metadata": {},
   "outputs": [
    {
     "data": {
      "text/plain": [
       "0.9277777777777778"
      ]
     },
     "execution_count": 16,
     "metadata": {},
     "output_type": "execute_result"
    }
   ],
   "source": [
    "# Hard Voting 모델\n",
    "voting_model = VotingClassifier(estimators=[\n",
    "    ('Decision_Tree', dtree), ('k-NN', knn), ('SVM', svm)],\n",
    "weights=[1,1,1], voting = 'hard')\n",
    "\n",
    "voting_model.fit(X_train, y_train)\n",
    "hard_voting_predicted = voting_model.predict(X_test)\n",
    "accuracy_score(y_test, hard_voting_predicted)\n"
   ]
  },
  {
   "cell_type": "code",
   "execution_count": 17,
   "id": "b452de85-6872-43c1-8ca7-353a685535f4",
   "metadata": {},
   "outputs": [
    {
     "data": {
      "text/plain": [
       "0.9055555555555556"
      ]
     },
     "execution_count": 17,
     "metadata": {},
     "output_type": "execute_result"
    }
   ],
   "source": [
    "# Soft Voting 모델\n",
    "voting_model = VotingClassifier(estimators=[\n",
    "    ('Decision_Tree', dtree), ('k-NN', knn), ('SVM', svm)],\n",
    "                                weights=[1,1,1], voting='soft')\n",
    "\n",
    "voting_model.fit(X_train, y_train)\n",
    "soft_voting_predicted = voting_model.predict(X_test)\n",
    "accuracy_score(y_test, soft_voting_predicted)\n"
   ]
  },
  {
   "cell_type": "code",
   "execution_count": 18,
   "id": "b8dab3ec-8ff9-45da-b487-74960e0ee2ac",
   "metadata": {},
   "outputs": [
    {
     "data": {
      "image/png": "[encoded data removed]",
      "text/plain": [
       "<Figure size 640x480 with 1 Axes>"
      ]
     },
     "metadata": {},
     "output_type": "display_data"
    }
   ],
   "source": [
    "# 모델별 정확도 확인\n",
    "x = np.arange(5)\n",
    "plt.bar(x, height = [accuracy_score(y_test, dtree_predicted),\n",
    "                     accuracy_score(y_test, knn_predicted),\n",
    "                     accuracy_score(y_test, svm_predicted),\n",
    "                     accuracy_score(y_test, hard_voting_predicted),\n",
    "                     accuracy_score(y_test, soft_voting_predicted)])\n",
    "plt.xticks(x, ['decision tree', 'knn', 'svm', 'hard voting', 'soft voting']);"
   ]
  }
 ],
 "metadata": {
  "kernelspec": {
   "display_name": "Python 3 (ipykernel)",
   "language": "python",
   "name": "python3"
  },
  "language_info": {
   "codemirror_mode": {
    "name": "ipython",
    "version": 3
   },
   "file_extension": ".py",
   "mimetype": "text/x-python",
   "name": "python",
   "nbconvert_exporter": "python",
   "pygments_lexer": "ipython3",
   "version": "3.13.5"
  }
 },
 "nbformat": 4,
 "nbformat_minor": 5
}
