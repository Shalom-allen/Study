{
 "cells": [
  {
   "cell_type": "code",
   "execution_count": null,
   "metadata": {},
   "outputs": [],
   "source": [
    "from bs4 import BeautifulSoup\n",
    "import requests"
   ]
  },
  {
   "cell_type": "code",
   "execution_count": null,
   "metadata": {},
   "outputs": [],
   "source": [
    "code = '005930'\n",
    "url = f'https://finance.naver.com/item/sise.naver?code={code}'\n",
    "req = requests.get(url, headers={'User-agent':'Mozilla/5.0'})\n",
    "html = BeautifulSoup(req.test,\"lmxl\")"
   ]
  }
 ],
 "metadata": {
  "language_info": {
   "name": "python"
  }
 },
 "nbformat": 4,
 "nbformat_minor": 2
}
